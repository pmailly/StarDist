{
 "cells": [
  {
   "cell_type": "code",
   "execution_count": 3,
   "id": "surprising-large",
   "metadata": {},
   "outputs": [
    {
     "name": "stdout",
     "output_type": "stream",
     "text": [
      "Loading network weights from 'weights_best.h5'.\n",
      "Couldn't load thresholds from 'thresholds.json', using default values. (Call 'optimize_thresholds' to change that.)\n",
      "Using default values: prob_thresh=0.5, nms_thresh=0.4.\n",
      "WARNING:tensorflow:From /home/phm/Developpement/StarDist_Env/lib/python3.8/site-packages/tensorflow/python/saved_model/signature_def_utils_impl.py:200: build_tensor_info (from tensorflow.python.saved_model.utils_impl) is deprecated and will be removed in a future version.\n",
      "Instructions for updating:\n",
      "This function will only be available through the v1 compatibility library as tf.compat.v1.saved_model.utils.build_tensor_info or tf.compat.v1.saved_model.build_tensor_info.\n",
      "INFO:tensorflow:No assets to save.\n",
      "INFO:tensorflow:No assets to write.\n",
      "INFO:tensorflow:SavedModel written to: /tmp/tmp8lya707_/model/saved_model.pb\n"
     ]
    },
    {
     "data": {
      "text/plain": [
       "<tensorflow.python.keras.engine.functional.Functional at 0x7f19da94bfd0>"
      ]
     },
     "execution_count": 3,
     "metadata": {},
     "output_type": "execute_result"
    }
   ],
   "source": [
    "from stardist.models import Config3D, StarDist3D, StarDistData3D\n",
    "\n",
    "model = StarDist3D(None, 'Fluo3D', basedir='/home/phm/Developpement/StarDist_Models/3D')\n",
    "model.export_TF()"
   ]
  },
  {
   "cell_type": "code",
   "execution_count": null,
   "id": "extra-number",
   "metadata": {},
   "outputs": [],
   "source": []
  }
 ],
 "metadata": {
  "kernelspec": {
   "display_name": "Python 3",
   "language": "python",
   "name": "python3"
  },
  "language_info": {
   "codemirror_mode": {
    "name": "ipython",
    "version": 3
   },
   "file_extension": ".py",
   "mimetype": "text/x-python",
   "name": "python",
   "nbconvert_exporter": "python",
   "pygments_lexer": "ipython3",
   "version": "3.8.6"
  }
 },
 "nbformat": 4,
 "nbformat_minor": 5
}
